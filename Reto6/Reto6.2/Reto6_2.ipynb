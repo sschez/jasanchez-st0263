{
  "nbformat": 4,
  "nbformat_minor": 0,
  "metadata": {
    "colab": {
      "provenance": []
    },
    "kernelspec": {
      "name": "python3",
      "display_name": "Python 3"
    },
    "language_info": {
      "name": "python"
    }
  },
  "cells": [
    {
      "cell_type": "code",
      "source": [
        "!apt-get install openjdk-11-jdk-headless -qq > /dev/null\n",
        "!wget -q https://downloads.apache.org/spark/spark-3.4.0/spark-3.4.0-bin-hadoop3.tgz\n",
        "!tar xf spark-3.4.0-bin-hadoop3.tgz\n",
        "!pip install -q findspark"
      ],
      "metadata": {
        "id": "xAcbGpgYhOXI"
      },
      "execution_count": 82,
      "outputs": []
    },
    {
      "cell_type": "code",
      "source": [
        "import os\n",
        "os.environ[\"JAVA_HOME\"] = \"/usr/lib/jvm/java-11-openjdk-amd64\"\n",
        "os.environ[\"SPARK_HOME\"] = \"/content/spark-3.4.0-bin-hadoop3\""
      ],
      "metadata": {
        "id": "qoKa_jWImMQm"
      },
      "execution_count": 83,
      "outputs": []
    },
    {
      "cell_type": "code",
      "source": [
        "import findspark\n",
        "from pyspark.sql.functions import desc, asc\n",
        "from pyspark.sql.functions import lit\n",
        "findspark.init()\n",
        "from pyspark.sql import SparkSession\n",
        "spark = SparkSession.builder \\\n",
        "    .appName(\"data_processing\")\\\n",
        "    .master(\"local[*]\")\\\n",
        "    .config(\"spark.driver.memory\",\"16G\")\\\n",
        "    .config(\"spark.driver.maxResultSize\", \"0\") \\\n",
        "    .config(\"spark.kryoserializer.buffer.max\", \"2000M\")\\\n",
        "    .config(\"spark.jars.packages\", \"com.amazonaws:aws-java-sdk:1.11.1034,org.apache.hadoop:hadoop-aws:3.3.4\")\\\n",
        "    .getOrCreate()\n",
        "    \n",
        "sc = spark.sparkContext"
      ],
      "metadata": {
        "id": "Lkbs4hcXkRcY"
      },
      "execution_count": 84,
      "outputs": []
    },
    {
      "cell_type": "code",
      "execution_count": 85,
      "metadata": {
        "id": "y36G-3M0e0Ha"
      },
      "outputs": [],
      "source": [
        "\n",
        "df=spark.read.csv(\"/content/drive/MyDrive/datasets/Casos_positivos_de_COVID-19_en_Colombia-100K.csv\",inferSchema=True,header=True)\n"
      ]
    },
    {
      "cell_type": "markdown",
      "source": [
        "2. Realizar el siguiente analisis:\n",
        "\n",
        "columnas\n",
        "\n",
        "tipos de datos\n",
        "\n",
        "seleccionar algunas columnas\n",
        "\n",
        "RENOMBRAR COLUMNAS (esto se recomienda hacerlo para facilitar el \n",
        "procesamiento posterior)\n",
        "\n",
        "agregar columnas\n",
        "\n",
        "borrar columnas\n",
        "\n",
        "filtrar datos\n",
        "\n",
        "ejecutar alguna función UDF o lambda sobre alguna columna creando una nueva."
      ],
      "metadata": {
        "id": "cIDBsVa2ahWy"
      }
    },
    {
      "cell_type": "code",
      "source": [
        "# columnas\n",
        "print(df.columns)"
      ],
      "metadata": {
        "colab": {
          "base_uri": "https://localhost:8080/"
        },
        "id": "cDXUP5Xla-wq",
        "outputId": "fcca0b4c-bf0a-4cab-b441-b2f598a84d1a"
      },
      "execution_count": 86,
      "outputs": [
        {
          "output_type": "stream",
          "name": "stdout",
          "text": [
            "['fecha reporte web', 'ID de caso', 'Fecha de notificación', 'Código DIVIPOLA departamento', 'Nombre departamento', 'Código DIVIPOLA municipio', 'Nombre municipio', 'Edad', 'Unidad de medida de edad', 'Sexo', 'Tipo de contagio', 'Ubicación del caso', 'Estado', 'Código ISO del país', 'Nombre del país', 'Recuperado', 'Fecha de inicio de síntomas', 'Fecha de muerte', 'Fecha de diagnóstico', 'Fecha de recuperación', 'Tipo de recuperación', 'Pertenencia étnica', 'Nombre del grupo étnico']\n"
          ]
        }
      ]
    },
    {
      "cell_type": "code",
      "source": [
        "# tipos de datos\n",
        "print([f.dataType for f in df.schema.fields])"
      ],
      "metadata": {
        "colab": {
          "base_uri": "https://localhost:8080/"
        },
        "id": "wgr4vA6Jbl8y",
        "outputId": "ee5d7625-07ec-42a1-edfc-fa7c93ac9341"
      },
      "execution_count": 87,
      "outputs": [
        {
          "output_type": "stream",
          "name": "stdout",
          "text": [
            "[StringType(), IntegerType(), StringType(), IntegerType(), StringType(), IntegerType(), StringType(), IntegerType(), IntegerType(), StringType(), StringType(), StringType(), StringType(), IntegerType(), StringType(), StringType(), StringType(), StringType(), StringType(), StringType(), StringType(), IntegerType(), StringType()]\n"
          ]
        }
      ]
    },
    {
      "cell_type": "code",
      "source": [
        "# seleccionar columnas\n",
        "print(df.select(\"Nombre municipio\").show())"
      ],
      "metadata": {
        "colab": {
          "base_uri": "https://localhost:8080/"
        },
        "id": "wVt958Hif5LT",
        "outputId": "fb86593c-122c-4816-bcc1-5c9eca4b3bb3"
      },
      "execution_count": 88,
      "outputs": [
        {
          "output_type": "stream",
          "name": "stdout",
          "text": [
            "+----------------+\n",
            "|Nombre municipio|\n",
            "+----------------+\n",
            "|          BOGOTA|\n",
            "|            BUGA|\n",
            "|        MEDELLIN|\n",
            "|        MEDELLIN|\n",
            "|        MEDELLIN|\n",
            "|          ITAGUI|\n",
            "|       CARTAGENA|\n",
            "|          BOGOTA|\n",
            "|          BOGOTA|\n",
            "|          BOGOTA|\n",
            "|          BOGOTA|\n",
            "|           NEIVA|\n",
            "|           NEIVA|\n",
            "|         PALMIRA|\n",
            "|   VILLAVICENCIO|\n",
            "|          BOGOTA|\n",
            "|          BOGOTA|\n",
            "|          BOGOTA|\n",
            "|          BOGOTA|\n",
            "|        MEDELLIN|\n",
            "+----------------+\n",
            "only showing top 20 rows\n",
            "\n",
            "None\n"
          ]
        }
      ]
    },
    {
      "cell_type": "code",
      "source": [
        "# renombrar columnas\n",
        "print(df.withColumnRenamed(\"Sexo\", \"Género\").columns)"
      ],
      "metadata": {
        "colab": {
          "base_uri": "https://localhost:8080/"
        },
        "id": "m0s-OaK5ixi-",
        "outputId": "aa42d275-ef10-42fc-bda7-a41099db37f5"
      },
      "execution_count": 89,
      "outputs": [
        {
          "output_type": "stream",
          "name": "stdout",
          "text": [
            "['fecha reporte web', 'ID de caso', 'Fecha de notificación', 'Código DIVIPOLA departamento', 'Nombre departamento', 'Código DIVIPOLA municipio', 'Nombre municipio', 'Edad', 'Unidad de medida de edad', 'Género', 'Tipo de contagio', 'Ubicación del caso', 'Estado', 'Código ISO del país', 'Nombre del país', 'Recuperado', 'Fecha de inicio de síntomas', 'Fecha de muerte', 'Fecha de diagnóstico', 'Fecha de recuperación', 'Tipo de recuperación', 'Pertenencia étnica', 'Nombre del grupo étnico']\n"
          ]
        }
      ]
    },
    {
      "cell_type": "code",
      "source": [
        "# agregar columnas\n",
        "print(df.withColumn(\"Datos Analizados\", lit(True)).show())"
      ],
      "metadata": {
        "colab": {
          "base_uri": "https://localhost:8080/"
        },
        "id": "qr6kGiWVjcOx",
        "outputId": "5b38f538-7801-430f-f446-fd5fd12301e6"
      },
      "execution_count": 90,
      "outputs": [
        {
          "output_type": "stream",
          "name": "stdout",
          "text": [
            "+-----------------+----------+---------------------+----------------------------+-------------------+-------------------------+----------------+----+------------------------+----+----------------+------------------+------+-------------------+--------------------+----------+---------------------------+---------------+--------------------+---------------------+--------------------+------------------+-----------------------+----------------+\n",
            "|fecha reporte web|ID de caso|Fecha de notificación|Código DIVIPOLA departamento|Nombre departamento|Código DIVIPOLA municipio|Nombre municipio|Edad|Unidad de medida de edad|Sexo|Tipo de contagio|Ubicación del caso|Estado|Código ISO del país|     Nombre del país|Recuperado|Fecha de inicio de síntomas|Fecha de muerte|Fecha de diagnóstico|Fecha de recuperación|Tipo de recuperación|Pertenencia étnica|Nombre del grupo étnico|Datos Analizados|\n",
            "+-----------------+----------+---------------------+----------------------------+-------------------+-------------------------+----------------+----+------------------------+----+----------------+------------------+------+-------------------+--------------------+----------+---------------------------+---------------+--------------------+---------------------+--------------------+------------------+-----------------------+----------------+\n",
            "| 6/3/2020 0:00:00|         1|     2/3/2020 0:00:00|                          11|             BOGOTA|                    11001|          BOGOTA|  19|                       1|   F|       Importado|              Casa|  Leve|                380|              ITALIA|Recuperado|          27/2/2020 0:00:00|           null|    6/3/2020 0:00:00|    13/3/2020 0:00:00|                 PCR|                 6|                   null|            true|\n",
            "| 9/3/2020 0:00:00|         2|     6/3/2020 0:00:00|                          76|              VALLE|                    76111|            BUGA|  34|                       1|   M|       Importado|              Casa|  Leve|                724|              ESPAÑA|Recuperado|           4/3/2020 0:00:00|           null|    9/3/2020 0:00:00|    19/3/2020 0:00:00|                 PCR|                 5|                   null|            true|\n",
            "| 9/3/2020 0:00:00|         3|     7/3/2020 0:00:00|                           5|          ANTIOQUIA|                     5001|        MEDELLIN|  50|                       1|   F|       Importado|              Casa|  Leve|                724|              ESPAÑA|Recuperado|          29/2/2020 0:00:00|           null|    9/3/2020 0:00:00|    15/3/2020 0:00:00|                 PCR|                 6|                   null|            true|\n",
            "|11/3/2020 0:00:00|         4|     9/3/2020 0:00:00|                           5|          ANTIOQUIA|                     5001|        MEDELLIN|  55|                       1|   M|     Relacionado|              Casa|  Leve|               null|                null|Recuperado|           6/3/2020 0:00:00|           null|   11/3/2020 0:00:00|    26/3/2020 0:00:00|                 PCR|                 6|                   null|            true|\n",
            "|11/3/2020 0:00:00|         5|     9/3/2020 0:00:00|                           5|          ANTIOQUIA|                     5001|        MEDELLIN|  25|                       1|   M|     Relacionado|              Casa|  Leve|               null|                null|Recuperado|           8/3/2020 0:00:00|           null|   11/3/2020 0:00:00|    23/3/2020 0:00:00|                 PCR|                 6|                   null|            true|\n",
            "|11/3/2020 0:00:00|         6|    10/3/2020 0:00:00|                           5|          ANTIOQUIA|                     5360|          ITAGUI|  27|                       1|   F|     Relacionado|              Casa|  Leve|               null|                null|Recuperado|           6/3/2020 0:00:00|           null|   11/3/2020 0:00:00|    26/3/2020 0:00:00|                 PCR|                 6|                   null|            true|\n",
            "|11/3/2020 0:00:00|         7|     8/3/2020 0:00:00|                       13001|          CARTAGENA|                    13001|       CARTAGENA|  85|                       1|   F|       Importado|              Casa|  Leve|                840|ESTADOS UNIDOS DE...|Recuperado|           2/3/2020 0:00:00|           null|   11/3/2020 0:00:00|    17/3/2020 0:00:00|                 PCR|                 6|                   null|            true|\n",
            "|11/3/2020 0:00:00|         8|     9/3/2020 0:00:00|                          11|             BOGOTA|                    11001|          BOGOTA|  22|                       1|   F|       Importado|              Casa|  Leve|                724|              ESPAÑA|Recuperado|           6/3/2020 0:00:00|           null|   11/3/2020 0:00:00|    21/3/2020 0:00:00|                 PCR|                 6|                   null|            true|\n",
            "|11/3/2020 0:00:00|         9|     8/3/2020 0:00:00|                          11|             BOGOTA|                    11001|          BOGOTA|  28|                       1|   F|       Importado|              Casa|  Leve|                724|              ESPAÑA|Recuperado|           7/3/2020 0:00:00|           null|   11/3/2020 0:00:00|    23/3/2020 0:00:00|                 PCR|                 6|                   null|            true|\n",
            "|12/3/2020 0:00:00|        10|    12/3/2020 0:00:00|                          11|             BOGOTA|                    11001|          BOGOTA|  36|                       1|   F|       Importado|              Casa|  Leve|                724|              ESPAÑA|Recuperado|           6/3/2020 0:00:00|           null|   12/3/2020 0:00:00|    21/3/2020 0:00:00|                 PCR|                 6|                   null|            true|\n",
            "|12/3/2020 0:00:00|        11|    11/3/2020 0:00:00|                          11|             BOGOTA|                    11001|          BOGOTA|  42|                       1|   F|       Importado|              Casa|  Leve|                724|              ESPAÑA|Recuperado|           6/3/2020 0:00:00|           null|   12/3/2020 0:00:00|    31/3/2020 0:00:00|                 PCR|                 6|                   null|            true|\n",
            "|12/3/2020 0:00:00|        12|    10/3/2020 0:00:00|                          41|              HUILA|                    41001|           NEIVA|  74|                       1|   F|       Importado|              Casa|  Leve|                380|              ITALIA|Recuperado|           6/3/2020 0:00:00|           null|   12/3/2020 0:00:00|     9/4/2020 0:00:00|                 PCR|                 6|                   null|            true|\n",
            "|12/3/2020 0:00:00|        13|    10/3/2020 0:00:00|                          41|              HUILA|                    41001|           NEIVA|  68|                       1|   F|     Relacionado|              Casa|  Leve|               null|                null|Recuperado|           6/3/2020 0:00:00|           null|   12/3/2020 0:00:00|    30/3/2020 0:00:00|                 PCR|                 6|                   null|            true|\n",
            "|13/3/2020 0:00:00|        14|    10/3/2020 0:00:00|                          76|              VALLE|                    76520|         PALMIRA|  48|                       1|   M|       Importado|              Casa|  Leve|                724|              ESPAÑA|Recuperado|           7/3/2020 0:00:00|           null|   13/3/2020 0:00:00|    21/3/2020 0:00:00|                 PCR|                 5|                   null|            true|\n",
            "|13/3/2020 0:00:00|        15|    13/3/2020 0:00:00|                          50|               META|                    50001|   VILLAVICENCIO|  30|                       1|   F|       Importado|              Casa|  Leve|                724|              ESPAÑA|Recuperado|           9/3/2020 0:00:00|           null|   13/3/2020 0:00:00|    23/3/2020 0:00:00|                 PCR|                 6|                   null|            true|\n",
            "|13/3/2020 0:00:00|        16|    11/3/2020 0:00:00|                          11|             BOGOTA|                    11001|          BOGOTA|  61|                       1|   F|       Importado|              Casa|  Leve|                380|              ITALIA|Recuperado|           8/3/2020 0:00:00|           null|   13/3/2020 0:00:00|    23/3/2020 0:00:00|                 PCR|                 5|                   null|            true|\n",
            "|14/3/2020 0:00:00|        17|    11/3/2020 0:00:00|                          11|             BOGOTA|                    11001|          BOGOTA|  73|                       1|   F|       Importado|              Casa|  Leve|                724|              ESPAÑA|Recuperado|          28/2/2020 0:00:00|           null|   14/3/2020 0:00:00|    14/3/2020 0:00:00|                 PCR|                 6|                   null|            true|\n",
            "|14/3/2020 0:00:00|        18|    11/3/2020 0:00:00|                          11|             BOGOTA|                    11001|          BOGOTA|  54|                       1|   M|       Importado|              Casa|  Leve|                724|              ESPAÑA|Recuperado|           7/3/2020 0:00:00|           null|   14/3/2020 0:00:00|     7/4/2020 0:00:00|              Tiempo|                 6|                   null|            true|\n",
            "|14/3/2020 0:00:00|        19|    12/3/2020 0:00:00|                          11|             BOGOTA|                    11001|          BOGOTA|  54|                       1|   F|     Relacionado|              Casa|  Leve|               null|                null|Recuperado|           9/3/2020 0:00:00|           null|   14/3/2020 0:00:00|    24/3/2020 0:00:00|                 PCR|                 6|                   null|            true|\n",
            "|14/3/2020 0:00:00|        20|    11/3/2020 0:00:00|                           5|          ANTIOQUIA|                     5001|        MEDELLIN|  26|                       1|   F|     Relacionado|              Casa|  Leve|               null|                null|Recuperado|           9/3/2020 0:00:00|           null|   14/3/2020 0:00:00|    24/3/2020 0:00:00|                 PCR|                 6|                   null|            true|\n",
            "+-----------------+----------+---------------------+----------------------------+-------------------+-------------------------+----------------+----+------------------------+----+----------------+------------------+------+-------------------+--------------------+----------+---------------------------+---------------+--------------------+---------------------+--------------------+------------------+-----------------------+----------------+\n",
            "only showing top 20 rows\n",
            "\n",
            "None\n"
          ]
        }
      ]
    },
    {
      "cell_type": "code",
      "source": [
        "# borrar columnas\n",
        "print(df.drop(\"Código DIVIPOLA departamento\").columns)"
      ],
      "metadata": {
        "colab": {
          "base_uri": "https://localhost:8080/"
        },
        "id": "18JKjvDjkMZ-",
        "outputId": "90e06eb7-3331-4269-8751-99e001840743"
      },
      "execution_count": 91,
      "outputs": [
        {
          "output_type": "stream",
          "name": "stdout",
          "text": [
            "['fecha reporte web', 'ID de caso', 'Fecha de notificación', 'Nombre departamento', 'Código DIVIPOLA municipio', 'Nombre municipio', 'Edad', 'Unidad de medida de edad', 'Sexo', 'Tipo de contagio', 'Ubicación del caso', 'Estado', 'Código ISO del país', 'Nombre del país', 'Recuperado', 'Fecha de inicio de síntomas', 'Fecha de muerte', 'Fecha de diagnóstico', 'Fecha de recuperación', 'Tipo de recuperación', 'Pertenencia étnica', 'Nombre del grupo étnico']\n"
          ]
        }
      ]
    },
    {
      "cell_type": "code",
      "source": [
        "# filtrar datos\n",
        "print(df.filter(df[\"Nombre departamento\"] == 'ANTIOQUIA').show())"
      ],
      "metadata": {
        "colab": {
          "base_uri": "https://localhost:8080/"
        },
        "id": "lfmC_lpamqrO",
        "outputId": "f37c1ff0-0caa-4704-f939-436e26f94f5c"
      },
      "execution_count": 92,
      "outputs": [
        {
          "output_type": "stream",
          "name": "stdout",
          "text": [
            "+-----------------+----------+---------------------+----------------------------+-------------------+-------------------------+----------------+----+------------------------+----+----------------+------------------+------+-------------------+--------------------+----------+---------------------------+---------------+--------------------+---------------------+--------------------+------------------+-----------------------+\n",
            "|fecha reporte web|ID de caso|Fecha de notificación|Código DIVIPOLA departamento|Nombre departamento|Código DIVIPOLA municipio|Nombre municipio|Edad|Unidad de medida de edad|Sexo|Tipo de contagio|Ubicación del caso|Estado|Código ISO del país|     Nombre del país|Recuperado|Fecha de inicio de síntomas|Fecha de muerte|Fecha de diagnóstico|Fecha de recuperación|Tipo de recuperación|Pertenencia étnica|Nombre del grupo étnico|\n",
            "+-----------------+----------+---------------------+----------------------------+-------------------+-------------------------+----------------+----+------------------------+----+----------------+------------------+------+-------------------+--------------------+----------+---------------------------+---------------+--------------------+---------------------+--------------------+------------------+-----------------------+\n",
            "| 9/3/2020 0:00:00|         3|     7/3/2020 0:00:00|                           5|          ANTIOQUIA|                     5001|        MEDELLIN|  50|                       1|   F|       Importado|              Casa|  Leve|                724|              ESPAÑA|Recuperado|          29/2/2020 0:00:00|           null|    9/3/2020 0:00:00|    15/3/2020 0:00:00|                 PCR|                 6|                   null|\n",
            "|11/3/2020 0:00:00|         4|     9/3/2020 0:00:00|                           5|          ANTIOQUIA|                     5001|        MEDELLIN|  55|                       1|   M|     Relacionado|              Casa|  Leve|               null|                null|Recuperado|           6/3/2020 0:00:00|           null|   11/3/2020 0:00:00|    26/3/2020 0:00:00|                 PCR|                 6|                   null|\n",
            "|11/3/2020 0:00:00|         5|     9/3/2020 0:00:00|                           5|          ANTIOQUIA|                     5001|        MEDELLIN|  25|                       1|   M|     Relacionado|              Casa|  Leve|               null|                null|Recuperado|           8/3/2020 0:00:00|           null|   11/3/2020 0:00:00|    23/3/2020 0:00:00|                 PCR|                 6|                   null|\n",
            "|11/3/2020 0:00:00|         6|    10/3/2020 0:00:00|                           5|          ANTIOQUIA|                     5360|          ITAGUI|  27|                       1|   F|     Relacionado|              Casa|  Leve|               null|                null|Recuperado|           6/3/2020 0:00:00|           null|   11/3/2020 0:00:00|    26/3/2020 0:00:00|                 PCR|                 6|                   null|\n",
            "|14/3/2020 0:00:00|        20|    11/3/2020 0:00:00|                           5|          ANTIOQUIA|                     5001|        MEDELLIN|  26|                       1|   F|     Relacionado|              Casa|  Leve|               null|                null|Recuperado|           9/3/2020 0:00:00|           null|   14/3/2020 0:00:00|    24/3/2020 0:00:00|                 PCR|                 6|                   null|\n",
            "|14/3/2020 0:00:00|        21|    11/3/2020 0:00:00|                           5|          ANTIOQUIA|                     5001|        MEDELLIN|  28|                       1|   M|     Relacionado|              Casa|  Leve|               null|                null|Recuperado|          10/3/2020 0:00:00|           null|   14/3/2020 0:00:00|    10/4/2020 0:00:00|                 PCR|                 6|                   null|\n",
            "|14/3/2020 0:00:00|        22|    12/3/2020 0:00:00|                           5|          ANTIOQUIA|                     5615|        RIONEGRO|  36|                       1|   M|       Importado|              Casa|  Leve|                840|ESTADOS UNIDOS DE...|Recuperado|           9/3/2020 0:00:00|           null|   14/3/2020 0:00:00|    24/3/2020 0:00:00|                 PCR|                 6|                   null|\n",
            "|15/3/2020 0:00:00|        32|    11/3/2020 0:00:00|                           5|          ANTIOQUIA|                     5001|        MEDELLIN|  55|                       1|   M|       Importado|              Casa|  Leve|                724|              ESPAÑA|Recuperado|          10/3/2020 0:00:00|           null|   15/3/2020 0:00:00|    25/3/2020 0:00:00|                 PCR|                 6|                   null|\n",
            "|19/3/2020 0:00:00|       106|    19/3/2020 0:00:00|                           5|          ANTIOQUIA|                     5001|        MEDELLIN|  44|                       1|   M|       Importado|              Casa|  Leve|                724|              ESPAÑA|Recuperado|          13/3/2020 0:00:00|           null|   19/3/2020 0:00:00|    28/3/2020 0:00:00|                 PCR|                 6|                   null|\n",
            "|19/3/2020 0:00:00|       107|    12/3/2020 0:00:00|                           5|          ANTIOQUIA|                     5001|        MEDELLIN|  56|                       1|   M|       Importado|              Casa|  Leve|                724|              ESPAÑA|Recuperado|          10/3/2020 0:00:00|           null|   19/3/2020 0:00:00|    30/3/2020 0:00:00|                 PCR|                 6|                   null|\n",
            "|19/3/2020 0:00:00|       108|    17/3/2020 0:00:00|                           5|          ANTIOQUIA|                     5001|        MEDELLIN|  57|                       1|   F|       Importado|              Casa|  Leve|                724|              ESPAÑA|Recuperado|          14/3/2020 0:00:00|           null|   19/3/2020 0:00:00|    28/3/2020 0:00:00|                 PCR|                 6|                   null|\n",
            "|20/3/2020 0:00:00|       131|    15/3/2020 0:00:00|                           5|          ANTIOQUIA|                     5001|        MEDELLIN|  22|                       1|   F|       Importado|              Casa|  Leve|                724|              ESPAÑA|Recuperado|          13/3/2020 0:00:00|           null|   20/3/2020 0:00:00|    28/3/2020 0:00:00|                 PCR|                 6|                   null|\n",
            "|20/3/2020 0:00:00|       133|    16/3/2020 0:00:00|                           5|          ANTIOQUIA|                     5615|        RIONEGRO|  51|                       1|   M|     Relacionado|              Casa|  Leve|               null|                null|Recuperado|          10/3/2020 0:00:00|           null|   20/3/2020 0:00:00|    25/3/2020 0:00:00|                 PCR|                 6|                   null|\n",
            "|20/3/2020 0:00:00|       134|    17/3/2020 0:00:00|                           5|          ANTIOQUIA|                     5380|     LA ESTRELLA|  28|                       1|   M|     Relacionado|              Casa|  Leve|               null|                null|Recuperado|                       null|           null|   20/3/2020 0:00:00|     3/4/2020 0:00:00|                 PCR|                 6|                   null|\n",
            "|20/3/2020 0:00:00|       135|    17/3/2020 0:00:00|                           5|          ANTIOQUIA|                     5001|        MEDELLIN|  44|                       1|   F|       Importado|              Casa|  Leve|                276|            ALEMANIA|Recuperado|          16/3/2020 0:00:00|           null|   20/3/2020 0:00:00|     1/4/2020 0:00:00|                 PCR|                 6|                   null|\n",
            "|20/3/2020 0:00:00|       136|    17/3/2020 0:00:00|                           5|          ANTIOQUIA|                     5001|        MEDELLIN|  37|                       1|   M|     Relacionado|              Casa|  Leve|               null|                null|Recuperado|          13/3/2020 0:00:00|           null|   20/3/2020 0:00:00|    13/4/2020 0:00:00|                 PCR|                 6|                   null|\n",
            "|20/3/2020 0:00:00|       137|    17/3/2020 0:00:00|                           5|          ANTIOQUIA|                     5266|        ENVIGADO|  54|                       1|   M|       Importado|              Casa|  Leve|                724|              ESPAÑA|Recuperado|                       null|           null|   20/3/2020 0:00:00|     3/4/2020 0:00:00|                 PCR|                 6|                   null|\n",
            "|20/3/2020 0:00:00|       141|    17/3/2020 0:00:00|                           5|          ANTIOQUIA|                     5001|        MEDELLIN|  62|                       1|   F|       Importado|              Casa|  Leve|                191|             CROACIA|Recuperado|          10/3/2020 0:00:00|           null|   20/3/2020 0:00:00|    25/3/2020 0:00:00|                 PCR|                 6|                   null|\n",
            "|20/3/2020 0:00:00|       142|    20/3/2020 0:00:00|                           5|          ANTIOQUIA|                     5001|        MEDELLIN|  35|                       1|   F|       Importado|              Casa|  Leve|                591|              PANAMA|Recuperado|          14/3/2020 0:00:00|           null|   20/3/2020 0:00:00|    29/3/2020 0:00:00|                 PCR|                 6|                   null|\n",
            "|20/3/2020 0:00:00|       143|    14/3/2020 0:00:00|                           5|          ANTIOQUIA|                     5266|        ENVIGADO|  46|                       1|   M|       Importado|              Casa|  Leve|                724|              ESPAÑA|Recuperado|          11/3/2020 0:00:00|           null|   20/3/2020 0:00:00|     1/8/2020 0:00:00|                 PCR|                 6|                   null|\n",
            "+-----------------+----------+---------------------+----------------------------+-------------------+-------------------------+----------------+----+------------------------+----+----------------+------------------+------+-------------------+--------------------+----------+---------------------------+---------------+--------------------+---------------------+--------------------+------------------+-----------------------+\n",
            "only showing top 20 rows\n",
            "\n",
            "None\n"
          ]
        }
      ]
    },
    {
      "cell_type": "code",
      "source": [
        "# ejecutar alguna funcion UDF o Lambda\n",
        "import pyspark.sql.functions as F\n",
        "df.withColumn(\"Pertenencia étnica + 1\", F.udf(lambda x: x+1)(\"Pertenencia étnica\")).show()"
      ],
      "metadata": {
        "colab": {
          "base_uri": "https://localhost:8080/"
        },
        "id": "0p3zeLDgtlO6",
        "outputId": "9da2f808-ac06-4bd2-facd-c5d93904e3a3"
      },
      "execution_count": 93,
      "outputs": [
        {
          "output_type": "stream",
          "name": "stdout",
          "text": [
            "+-----------------+----------+---------------------+----------------------------+-------------------+-------------------------+----------------+----+------------------------+----+----------------+------------------+------+-------------------+--------------------+----------+---------------------------+---------------+--------------------+---------------------+--------------------+------------------+-----------------------+----------------------+\n",
            "|fecha reporte web|ID de caso|Fecha de notificación|Código DIVIPOLA departamento|Nombre departamento|Código DIVIPOLA municipio|Nombre municipio|Edad|Unidad de medida de edad|Sexo|Tipo de contagio|Ubicación del caso|Estado|Código ISO del país|     Nombre del país|Recuperado|Fecha de inicio de síntomas|Fecha de muerte|Fecha de diagnóstico|Fecha de recuperación|Tipo de recuperación|Pertenencia étnica|Nombre del grupo étnico|Pertenencia étnica + 1|\n",
            "+-----------------+----------+---------------------+----------------------------+-------------------+-------------------------+----------------+----+------------------------+----+----------------+------------------+------+-------------------+--------------------+----------+---------------------------+---------------+--------------------+---------------------+--------------------+------------------+-----------------------+----------------------+\n",
            "| 6/3/2020 0:00:00|         1|     2/3/2020 0:00:00|                          11|             BOGOTA|                    11001|          BOGOTA|  19|                       1|   F|       Importado|              Casa|  Leve|                380|              ITALIA|Recuperado|          27/2/2020 0:00:00|           null|    6/3/2020 0:00:00|    13/3/2020 0:00:00|                 PCR|                 6|                   null|                     7|\n",
            "| 9/3/2020 0:00:00|         2|     6/3/2020 0:00:00|                          76|              VALLE|                    76111|            BUGA|  34|                       1|   M|       Importado|              Casa|  Leve|                724|              ESPAÑA|Recuperado|           4/3/2020 0:00:00|           null|    9/3/2020 0:00:00|    19/3/2020 0:00:00|                 PCR|                 5|                   null|                     6|\n",
            "| 9/3/2020 0:00:00|         3|     7/3/2020 0:00:00|                           5|          ANTIOQUIA|                     5001|        MEDELLIN|  50|                       1|   F|       Importado|              Casa|  Leve|                724|              ESPAÑA|Recuperado|          29/2/2020 0:00:00|           null|    9/3/2020 0:00:00|    15/3/2020 0:00:00|                 PCR|                 6|                   null|                     7|\n",
            "|11/3/2020 0:00:00|         4|     9/3/2020 0:00:00|                           5|          ANTIOQUIA|                     5001|        MEDELLIN|  55|                       1|   M|     Relacionado|              Casa|  Leve|               null|                null|Recuperado|           6/3/2020 0:00:00|           null|   11/3/2020 0:00:00|    26/3/2020 0:00:00|                 PCR|                 6|                   null|                     7|\n",
            "|11/3/2020 0:00:00|         5|     9/3/2020 0:00:00|                           5|          ANTIOQUIA|                     5001|        MEDELLIN|  25|                       1|   M|     Relacionado|              Casa|  Leve|               null|                null|Recuperado|           8/3/2020 0:00:00|           null|   11/3/2020 0:00:00|    23/3/2020 0:00:00|                 PCR|                 6|                   null|                     7|\n",
            "|11/3/2020 0:00:00|         6|    10/3/2020 0:00:00|                           5|          ANTIOQUIA|                     5360|          ITAGUI|  27|                       1|   F|     Relacionado|              Casa|  Leve|               null|                null|Recuperado|           6/3/2020 0:00:00|           null|   11/3/2020 0:00:00|    26/3/2020 0:00:00|                 PCR|                 6|                   null|                     7|\n",
            "|11/3/2020 0:00:00|         7|     8/3/2020 0:00:00|                       13001|          CARTAGENA|                    13001|       CARTAGENA|  85|                       1|   F|       Importado|              Casa|  Leve|                840|ESTADOS UNIDOS DE...|Recuperado|           2/3/2020 0:00:00|           null|   11/3/2020 0:00:00|    17/3/2020 0:00:00|                 PCR|                 6|                   null|                     7|\n",
            "|11/3/2020 0:00:00|         8|     9/3/2020 0:00:00|                          11|             BOGOTA|                    11001|          BOGOTA|  22|                       1|   F|       Importado|              Casa|  Leve|                724|              ESPAÑA|Recuperado|           6/3/2020 0:00:00|           null|   11/3/2020 0:00:00|    21/3/2020 0:00:00|                 PCR|                 6|                   null|                     7|\n",
            "|11/3/2020 0:00:00|         9|     8/3/2020 0:00:00|                          11|             BOGOTA|                    11001|          BOGOTA|  28|                       1|   F|       Importado|              Casa|  Leve|                724|              ESPAÑA|Recuperado|           7/3/2020 0:00:00|           null|   11/3/2020 0:00:00|    23/3/2020 0:00:00|                 PCR|                 6|                   null|                     7|\n",
            "|12/3/2020 0:00:00|        10|    12/3/2020 0:00:00|                          11|             BOGOTA|                    11001|          BOGOTA|  36|                       1|   F|       Importado|              Casa|  Leve|                724|              ESPAÑA|Recuperado|           6/3/2020 0:00:00|           null|   12/3/2020 0:00:00|    21/3/2020 0:00:00|                 PCR|                 6|                   null|                     7|\n",
            "|12/3/2020 0:00:00|        11|    11/3/2020 0:00:00|                          11|             BOGOTA|                    11001|          BOGOTA|  42|                       1|   F|       Importado|              Casa|  Leve|                724|              ESPAÑA|Recuperado|           6/3/2020 0:00:00|           null|   12/3/2020 0:00:00|    31/3/2020 0:00:00|                 PCR|                 6|                   null|                     7|\n",
            "|12/3/2020 0:00:00|        12|    10/3/2020 0:00:00|                          41|              HUILA|                    41001|           NEIVA|  74|                       1|   F|       Importado|              Casa|  Leve|                380|              ITALIA|Recuperado|           6/3/2020 0:00:00|           null|   12/3/2020 0:00:00|     9/4/2020 0:00:00|                 PCR|                 6|                   null|                     7|\n",
            "|12/3/2020 0:00:00|        13|    10/3/2020 0:00:00|                          41|              HUILA|                    41001|           NEIVA|  68|                       1|   F|     Relacionado|              Casa|  Leve|               null|                null|Recuperado|           6/3/2020 0:00:00|           null|   12/3/2020 0:00:00|    30/3/2020 0:00:00|                 PCR|                 6|                   null|                     7|\n",
            "|13/3/2020 0:00:00|        14|    10/3/2020 0:00:00|                          76|              VALLE|                    76520|         PALMIRA|  48|                       1|   M|       Importado|              Casa|  Leve|                724|              ESPAÑA|Recuperado|           7/3/2020 0:00:00|           null|   13/3/2020 0:00:00|    21/3/2020 0:00:00|                 PCR|                 5|                   null|                     6|\n",
            "|13/3/2020 0:00:00|        15|    13/3/2020 0:00:00|                          50|               META|                    50001|   VILLAVICENCIO|  30|                       1|   F|       Importado|              Casa|  Leve|                724|              ESPAÑA|Recuperado|           9/3/2020 0:00:00|           null|   13/3/2020 0:00:00|    23/3/2020 0:00:00|                 PCR|                 6|                   null|                     7|\n",
            "|13/3/2020 0:00:00|        16|    11/3/2020 0:00:00|                          11|             BOGOTA|                    11001|          BOGOTA|  61|                       1|   F|       Importado|              Casa|  Leve|                380|              ITALIA|Recuperado|           8/3/2020 0:00:00|           null|   13/3/2020 0:00:00|    23/3/2020 0:00:00|                 PCR|                 5|                   null|                     6|\n",
            "|14/3/2020 0:00:00|        17|    11/3/2020 0:00:00|                          11|             BOGOTA|                    11001|          BOGOTA|  73|                       1|   F|       Importado|              Casa|  Leve|                724|              ESPAÑA|Recuperado|          28/2/2020 0:00:00|           null|   14/3/2020 0:00:00|    14/3/2020 0:00:00|                 PCR|                 6|                   null|                     7|\n",
            "|14/3/2020 0:00:00|        18|    11/3/2020 0:00:00|                          11|             BOGOTA|                    11001|          BOGOTA|  54|                       1|   M|       Importado|              Casa|  Leve|                724|              ESPAÑA|Recuperado|           7/3/2020 0:00:00|           null|   14/3/2020 0:00:00|     7/4/2020 0:00:00|              Tiempo|                 6|                   null|                     7|\n",
            "|14/3/2020 0:00:00|        19|    12/3/2020 0:00:00|                          11|             BOGOTA|                    11001|          BOGOTA|  54|                       1|   F|     Relacionado|              Casa|  Leve|               null|                null|Recuperado|           9/3/2020 0:00:00|           null|   14/3/2020 0:00:00|    24/3/2020 0:00:00|                 PCR|                 6|                   null|                     7|\n",
            "|14/3/2020 0:00:00|        20|    11/3/2020 0:00:00|                           5|          ANTIOQUIA|                     5001|        MEDELLIN|  26|                       1|   F|     Relacionado|              Casa|  Leve|               null|                null|Recuperado|           9/3/2020 0:00:00|           null|   14/3/2020 0:00:00|    24/3/2020 0:00:00|                 PCR|                 6|                   null|                     7|\n",
            "+-----------------+----------+---------------------+----------------------------+-------------------+-------------------------+----------------+----+------------------------+----+----------------+------------------+------+-------------------+--------------------+----------+---------------------------+---------------+--------------------+---------------------+--------------------+------------------+-----------------------+----------------------+\n",
            "only showing top 20 rows\n",
            "\n"
          ]
        }
      ]
    },
    {
      "cell_type": "markdown",
      "source": [
        "3. Contestar las siguientes preguntas con dataframes y sparkSQL\n",
        "\n",
        "3.1 Los 10 departamentos con más casos de covid en Colombia ordenados de mayor a menor.\n",
        "\n",
        "3.2 Las 10 ciudades con más casos de covid en Colombia ordenados de mayor a menor.\n",
        "\n",
        "3.3 Los 10 días con más casos de covid en Colombia ordenados de mayor a menor.\n",
        "\n",
        "3.4 Distribución de casos por edades de covid en Colombia.\n",
        "\n",
        "3.5 Realice la pregunda de negocio que quiera sobre los datos y respondala con la correspondiente programación en spark."
      ],
      "metadata": {
        "id": "5H5rVjmc0w-n"
      }
    },
    {
      "cell_type": "code",
      "source": [
        "# Los 10 departamentos con más casos de covid en Colombia ordenados de mayor a menor.\n",
        "\n",
        "\n",
        "df.groupBy(\"Nombre departamento\").count().orderBy(desc(\"count\")).show(10)"
      ],
      "metadata": {
        "colab": {
          "base_uri": "https://localhost:8080/"
        },
        "id": "MW7A8Q380_xj",
        "outputId": "05074ef1-2503-4bc0-9fc5-71ff9928583e"
      },
      "execution_count": 94,
      "outputs": [
        {
          "output_type": "stream",
          "name": "stdout",
          "text": [
            "+-------------------+-----+\n",
            "|Nombre departamento|count|\n",
            "+-------------------+-----+\n",
            "|             BOGOTA|30016|\n",
            "|       BARRANQUILLA|13065|\n",
            "|          ATLANTICO|10994|\n",
            "|              VALLE|10404|\n",
            "|          CARTAGENA| 8333|\n",
            "|          ANTIOQUIA| 4554|\n",
            "|             NARIÑO| 3520|\n",
            "|       CUNDINAMARCA| 2827|\n",
            "|           AMAZONAS| 2317|\n",
            "|              CHOCO| 1636|\n",
            "+-------------------+-----+\n",
            "only showing top 10 rows\n",
            "\n"
          ]
        }
      ]
    },
    {
      "cell_type": "code",
      "source": [
        "# Las 10 ciudades con más casos de covid en Colombia ordenados de mayor a menor.\n",
        "\n",
        "\n",
        "df.groupBy(\"Nombre municipio\").count().orderBy(desc(\"count\")).show(10)"
      ],
      "metadata": {
        "colab": {
          "base_uri": "https://localhost:8080/"
        },
        "id": "64TgfTmL7HvG",
        "outputId": "089f5188-f7cf-46e7-a665-a16dec6f84fd"
      },
      "execution_count": 95,
      "outputs": [
        {
          "output_type": "stream",
          "name": "stdout",
          "text": [
            "+----------------+-----+\n",
            "|Nombre municipio|count|\n",
            "+----------------+-----+\n",
            "|          BOGOTA|30016|\n",
            "|    BARRANQUILLA|13065|\n",
            "|       CARTAGENA| 8333|\n",
            "|            CALI| 7747|\n",
            "|         SOLEDAD| 6233|\n",
            "|         LETICIA| 2194|\n",
            "|        MEDELLIN| 2137|\n",
            "|          TUMACO| 1501|\n",
            "|    BUENAVENTURA| 1453|\n",
            "|          QUIBDO| 1367|\n",
            "+----------------+-----+\n",
            "only showing top 10 rows\n",
            "\n"
          ]
        }
      ]
    },
    {
      "cell_type": "code",
      "source": [
        "# Los 10 días con más casos de covid en Colombia ordenados de mayor a menor.\n",
        "\n",
        "\n",
        "df.groupBy(\"Fecha de diagnóstico\").count().orderBy(desc(\"count\")).show(10)"
      ],
      "metadata": {
        "colab": {
          "base_uri": "https://localhost:8080/"
        },
        "id": "UFfZYzWH7fu3",
        "outputId": "24770a82-acc4-4578-b427-b2b4a4e6de94"
      },
      "execution_count": 96,
      "outputs": [
        {
          "output_type": "stream",
          "name": "stdout",
          "text": [
            "+--------------------+-----+\n",
            "|Fecha de diagnóstico|count|\n",
            "+--------------------+-----+\n",
            "|   26/6/2020 0:00:00| 4390|\n",
            "|   27/6/2020 0:00:00| 4019|\n",
            "|   28/6/2020 0:00:00| 3580|\n",
            "|   25/6/2020 0:00:00| 3381|\n",
            "|   19/6/2020 0:00:00| 3053|\n",
            "|   18/6/2020 0:00:00| 3040|\n",
            "|   23/6/2020 0:00:00| 3031|\n",
            "|   22/6/2020 0:00:00| 2938|\n",
            "|   21/6/2020 0:00:00| 2781|\n",
            "|   24/6/2020 0:00:00| 2564|\n",
            "+--------------------+-----+\n",
            "only showing top 10 rows\n",
            "\n"
          ]
        }
      ]
    },
    {
      "cell_type": "code",
      "source": [
        "# Distribución de casos por edades de covid en Colombia.\n",
        "df.groupBy().pivot(\"Edad\").count().show()"
      ],
      "metadata": {
        "colab": {
          "base_uri": "https://localhost:8080/"
        },
        "id": "_Z-PbXBr8Slf",
        "outputId": "f9313d64-d26f-4375-80e5-fdee71047834"
      },
      "execution_count": 97,
      "outputs": [
        {
          "output_type": "stream",
          "name": "stdout",
          "text": [
            "+---+---+---+---+---+---+---+---+---+---+---+---+---+---+---+---+---+----+----+----+----+----+----+----+----+----+----+----+----+----+----+----+----+----+----+----+----+----+----+----+----+----+----+----+----+----+----+----+----+----+----+----+----+----+----+----+----+----+----+----+---+---+---+---+---+---+---+---+---+---+---+---+---+---+---+---+---+---+---+---+---+---+---+---+---+---+---+---+---+---+---+---+---+---+---+---+---+---+---+---+---+---+---+---+\n",
            "|  1|  2|  3|  4|  5|  6|  7|  8|  9| 10| 11| 12| 13| 14| 15| 16| 17|  18|  19|  20|  21|  22|  23|  24|  25|  26|  27|  28|  29|  30|  31|  32|  33|  34|  35|  36|  37|  38|  39|  40|  41|  42|  43|  44|  45|  46|  47|  48|  49|  50|  51|  52|  53|  54|  55|  56|  57|  58|  59|  60| 61| 62| 63| 64| 65| 66| 67| 68| 69| 70| 71| 72| 73| 74| 75| 76| 77| 78| 79| 80| 81| 82| 83| 84| 85| 86| 87| 88| 89| 90| 91| 92| 93| 94| 95| 96| 97| 98| 99|100|101|102|103|104|\n",
            "+---+---+---+---+---+---+---+---+---+---+---+---+---+---+---+---+---+----+----+----+----+----+----+----+----+----+----+----+----+----+----+----+----+----+----+----+----+----+----+----+----+----+----+----+----+----+----+----+----+----+----+----+----+----+----+----+----+----+----+----+---+---+---+---+---+---+---+---+---+---+---+---+---+---+---+---+---+---+---+---+---+---+---+---+---+---+---+---+---+---+---+---+---+---+---+---+---+---+---+---+---+---+---+---+\n",
            "|485|440|449|373|425|431|442|461|467|530|566|562|531|580|560|600|685|1160|1567|1674|1713|1879|2041|2214|2335|2436|2494|2540|2611|2735|2569|2362|2371|2310|2292|2175|2132|2098|1985|2050|1783|1620|1654|1488|1492|1398|1401|1475|1467|1423|1327|1402|1307|1290|1291|1325|1252|1155|1085|1069|965|932|867|800|736|701|688|614|583|593|501|533|479|436|397|361|348|346|368|346|275|287|262|213|224|182|184|146|117|109| 91| 70| 51| 53| 32| 23| 14| 12| 11| 10|  1|  2|  2|  1|\n",
            "+---+---+---+---+---+---+---+---+---+---+---+---+---+---+---+---+---+----+----+----+----+----+----+----+----+----+----+----+----+----+----+----+----+----+----+----+----+----+----+----+----+----+----+----+----+----+----+----+----+----+----+----+----+----+----+----+----+----+----+----+---+---+---+---+---+---+---+---+---+---+---+---+---+---+---+---+---+---+---+---+---+---+---+---+---+---+---+---+---+---+---+---+---+---+---+---+---+---+---+---+---+---+---+---+\n",
            "\n"
          ]
        }
      ]
    },
    {
      "cell_type": "code",
      "source": [
        "# Realice la pregunda de negocio que quiera sobre los datos y respondala con la correspondiente programación en spark.\n",
        "# ciudades con menos casos de covid\n",
        "df.groupBy(\"Nombre municipio\").count().orderBy(asc(\"count\")).show(10)"
      ],
      "metadata": {
        "colab": {
          "base_uri": "https://localhost:8080/"
        },
        "id": "zh_3fDSR8xOB",
        "outputId": "d2da604d-a894-4004-ded6-5c49da735569"
      },
      "execution_count": 98,
      "outputs": [
        {
          "output_type": "stream",
          "name": "stdout",
          "text": [
            "+------------------+-----+\n",
            "|  Nombre municipio|count|\n",
            "+------------------+-----+\n",
            "|           CABRERA|    1|\n",
            "|            TOTORO|    1|\n",
            "|           YAGUARA|    1|\n",
            "|            DARIEN|    1|\n",
            "|             NEIRA|    1|\n",
            "|      ANSERMANUEVO|    1|\n",
            "|SAN MIGUEL DE SEMA|    1|\n",
            "|          PAILITAS|    1|\n",
            "|           BELTRAN|    1|\n",
            "|           ANSERMA|    1|\n",
            "+------------------+-----+\n",
            "only showing top 10 rows\n",
            "\n"
          ]
        }
      ]
    }
  ]
}